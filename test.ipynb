{
 "cells": [
  {
   "cell_type": "code",
   "execution_count": 40,
   "id": "0355ad94",
   "metadata": {},
   "outputs": [],
   "source": [
    "from matminer.featurizers.conversions import StrToComposition\n",
    "from matminer.featurizers.composition import ElementProperty\n",
    "from matminer.featurizers.base import MultipleFeaturizer\n",
    "from matminer.featurizers import composition as cf\n",
    "from matminer.featurizers.conversions import StrToComposition\n",
    "from pymatgen.core.composition import Composition\n",
    "\n",
    "import re\n",
    "import numpy as np \n",
    "import pandas as pd \n",
    "from pandas.core.frame import DataFrame\n",
    "from scipy import stats\n",
    "from sklearn.ensemble import RandomForestClassifier\n",
    "from sklearn.kernel_ridge import KernelRidge\n",
    "from sklearn.model_selection import GridSearchCV\n",
    "from sklearn.gaussian_process.kernels import WhiteKernel, ExpSineSquared\n",
    "from sklearn.metrics import f1_score, matthews_corrcoef ,make_scorer,recall_score,roc_auc_score\n",
    "from sklearn.model_selection import cross_validate\n",
    "from sklearn.model_selection import train_test_split\n",
    "from sklearn.ensemble import RandomForestClassifier\n",
    "\n",
    "import bz2 \n",
    "import pickle \n",
    "import _pickle as cPickle\n",
    "import os\n",
    "import joblib\n",
    "import argparse"
   ]
  },
  {
   "cell_type": "code",
   "execution_count": 41,
   "id": "8233cafc",
   "metadata": {},
   "outputs": [],
   "source": [
    "feature_calculators = MultipleFeaturizer([\n",
    "    cf.ElementProperty.from_preset(preset_name=\"magpie\"),\n",
    "    cf.Stoichiometry(),\n",
    "    cf.ValenceOrbital(props=['frac']),\n",
    "    cf.IonProperty(fast=True),\n",
    "    cf.BandCenter(),\n",
    "    cf.ElementFraction(),\n",
    "    ])\n",
    "\n",
    "def generate(fake_df, ignore_errors=False):\n",
    "    \"\"\"\n",
    "        generate feature from a dataframe with a \"formula\" column that contains \n",
    "        chemical formulas of the compositions.\n",
    "    \"\"\"\n",
    "    fake_df = StrToComposition().featurize_dataframe(fake_df, \"formula\", ignore_errors=ignore_errors)\n",
    "    fake_df = fake_df.dropna()\n",
    "    fake_df = feature_calculators.featurize_dataframe(fake_df, col_id='composition', ignore_errors=ignore_errors);\n",
    "    fake_df[\"NComp\"] = fake_df[\"composition\"].apply(len)\n",
    "    return fake_df"
   ]
  },
  {
   "cell_type": "code",
   "execution_count": 42,
   "id": "031f9e98",
   "metadata": {},
   "outputs": [
    {
     "data": {
      "application/vnd.jupyter.widget-view+json": {
       "model_id": "e4645824db51484c86c1774ece904d75",
       "version_major": 2,
       "version_minor": 0
      },
      "text/plain": [
       "StrToComposition:   0%|          | 0/17367 [00:00<?, ?it/s]"
      ]
     },
     "metadata": {},
     "output_type": "display_data"
    },
    {
     "data": {
      "application/vnd.jupyter.widget-view+json": {
       "model_id": "a3c68acd5cea405ca2767c01729ea80c",
       "version_major": 2,
       "version_minor": 0
      },
      "text/plain": [
       "MultipleFeaturizer:   0%|          | 0/17367 [00:00<?, ?it/s]"
      ]
     },
     "metadata": {},
     "output_type": "display_data"
    },
    {
     "ename": "KeyError",
     "evalue": "\"'U'\\nTO SKIP THESE ERRORS when featurizing specific compounds, set 'ignore_errors=True' when running the batch featurize() operation (e.g., featurize_many(), featurize_dataframe(), etc.).\"",
     "output_type": "error",
     "traceback": [
      "\u001b[0;31m---------------------------------------------------------------------------\u001b[0m",
      "\u001b[0;31mRemoteTraceback\u001b[0m                           Traceback (most recent call last)",
      "\u001b[0;31mRemoteTraceback\u001b[0m: \n\"\"\"\nTraceback (most recent call last):\n  File \"/Users/yuta-y/.pyenv/versions/miniconda3-4.3.27/envs/matminer/lib/python3.7/site-packages/matminer/featurizers/base.py\", line 497, in featurize_wrapper\n    return self.featurize(*x)\n  File \"/Users/yuta-y/.pyenv/versions/miniconda3-4.3.27/envs/matminer/lib/python3.7/site-packages/matminer/featurizers/composition/element.py\", line 228, in featurize\n    first_ioniz = DemlData().get_elemental_property(Element(el), \"first_ioniz\") / 1000\n  File \"/Users/yuta-y/.pyenv/versions/miniconda3-4.3.27/envs/matminer/lib/python3.7/site-packages/matminer/utils/data.py\", line 171, in get_elemental_property\n    return self.all_props[\"ionization_en\"][elem.symbol][0]\nKeyError: 'U'\n\nDuring handling of the above exception, another exception occurred:\n\nTraceback (most recent call last):\n  File \"/Users/yuta-y/.pyenv/versions/miniconda3-4.3.27/envs/matminer/lib/python3.7/multiprocessing/pool.py\", line 121, in worker\n    result = (True, func(*args, **kwds))\n  File \"/Users/yuta-y/.pyenv/versions/miniconda3-4.3.27/envs/matminer/lib/python3.7/multiprocessing/pool.py\", line 44, in mapstar\n    return list(map(*args))\n  File \"/Users/yuta-y/.pyenv/versions/miniconda3-4.3.27/envs/matminer/lib/python3.7/site-packages/matminer/featurizers/base.py\", line 625, in featurize_wrapper\n    for f in self.featurizers\n  File \"/Users/yuta-y/.pyenv/versions/miniconda3-4.3.27/envs/matminer/lib/python3.7/site-packages/matminer/featurizers/base.py\", line 626, in <listcomp>\n    for feature in f.featurize_wrapper(x, return_errors=return_errors, ignore_errors=ignore_errors)\n  File \"/Users/yuta-y/.pyenv/versions/miniconda3-4.3.27/envs/matminer/lib/python3.7/site-packages/matminer/featurizers/base.py\", line 514, in featurize_wrapper\n    reraise(type(e), type(e)(msg), sys.exc_info()[2])\n  File \"/Users/yuta-y/.pyenv/versions/miniconda3-4.3.27/envs/matminer/lib/python3.7/site-packages/six.py\", line 718, in reraise\n    raise value.with_traceback(tb)\n  File \"/Users/yuta-y/.pyenv/versions/miniconda3-4.3.27/envs/matminer/lib/python3.7/site-packages/matminer/featurizers/base.py\", line 497, in featurize_wrapper\n    return self.featurize(*x)\n  File \"/Users/yuta-y/.pyenv/versions/miniconda3-4.3.27/envs/matminer/lib/python3.7/site-packages/matminer/featurizers/composition/element.py\", line 228, in featurize\n    first_ioniz = DemlData().get_elemental_property(Element(el), \"first_ioniz\") / 1000\n  File \"/Users/yuta-y/.pyenv/versions/miniconda3-4.3.27/envs/matminer/lib/python3.7/site-packages/matminer/utils/data.py\", line 171, in get_elemental_property\n    return self.all_props[\"ionization_en\"][elem.symbol][0]\nKeyError: \"'U'\\nTO SKIP THESE ERRORS when featurizing specific compounds, set 'ignore_errors=True' when running the batch featurize() operation (e.g., featurize_many(), featurize_dataframe(), etc.).\"\n\"\"\"",
      "\nThe above exception was the direct cause of the following exception:\n",
      "\u001b[0;31mKeyError\u001b[0m                                  Traceback (most recent call last)",
      "\u001b[0;32m/var/folders/2d/4rnvdfc95dl5kdv5cvb_3s5m0000gp/T/ipykernel_16700/3484831677.py\u001b[0m in \u001b[0;36m<module>\u001b[0;34m\u001b[0m\n\u001b[1;32m      6\u001b[0m \u001b[0mformula\u001b[0m \u001b[0;34m=\u001b[0m \u001b[0mpd\u001b[0m\u001b[0;34m.\u001b[0m\u001b[0mread_csv\u001b[0m\u001b[0;34m(\u001b[0m\u001b[0minput\u001b[0m\u001b[0;34m)\u001b[0m\u001b[0;34m\u001b[0m\u001b[0;34m\u001b[0m\u001b[0m\n\u001b[1;32m      7\u001b[0m \u001b[0;31m# print(formula)\u001b[0m\u001b[0;34m\u001b[0m\u001b[0;34m\u001b[0m\u001b[0;34m\u001b[0m\u001b[0m\n\u001b[0;32m----> 8\u001b[0;31m \u001b[0mext_magpie\u001b[0m \u001b[0;34m=\u001b[0m \u001b[0mgenerate\u001b[0m\u001b[0;34m(\u001b[0m\u001b[0mformula\u001b[0m\u001b[0;34m)\u001b[0m\u001b[0;34m\u001b[0m\u001b[0;34m\u001b[0m\u001b[0m\n\u001b[0m\u001b[1;32m      9\u001b[0m \u001b[0;32mreturn\u001b[0m\u001b[0;34m(\u001b[0m\u001b[0mext_magpie\u001b[0m\u001b[0;34m)\u001b[0m\u001b[0;34m\u001b[0m\u001b[0;34m\u001b[0m\u001b[0m\n\u001b[1;32m     10\u001b[0m \u001b[0;31m# ext_magpie('train.csv')\u001b[0m\u001b[0;34m\u001b[0m\u001b[0;34m\u001b[0m\u001b[0;34m\u001b[0m\u001b[0m\n",
      "\u001b[0;32m/var/folders/2d/4rnvdfc95dl5kdv5cvb_3s5m0000gp/T/ipykernel_16700/1948736687.py\u001b[0m in \u001b[0;36mgenerate\u001b[0;34m(fake_df, ignore_errors)\u001b[0m\n\u001b[1;32m     15\u001b[0m     \u001b[0mfake_df\u001b[0m \u001b[0;34m=\u001b[0m \u001b[0mStrToComposition\u001b[0m\u001b[0;34m(\u001b[0m\u001b[0;34m)\u001b[0m\u001b[0;34m.\u001b[0m\u001b[0mfeaturize_dataframe\u001b[0m\u001b[0;34m(\u001b[0m\u001b[0mfake_df\u001b[0m\u001b[0;34m,\u001b[0m \u001b[0;34m\"formula\"\u001b[0m\u001b[0;34m,\u001b[0m \u001b[0mignore_errors\u001b[0m\u001b[0;34m=\u001b[0m\u001b[0mignore_errors\u001b[0m\u001b[0;34m)\u001b[0m\u001b[0;34m\u001b[0m\u001b[0;34m\u001b[0m\u001b[0m\n\u001b[1;32m     16\u001b[0m     \u001b[0mfake_df\u001b[0m \u001b[0;34m=\u001b[0m \u001b[0mfake_df\u001b[0m\u001b[0;34m.\u001b[0m\u001b[0mdropna\u001b[0m\u001b[0;34m(\u001b[0m\u001b[0;34m)\u001b[0m\u001b[0;34m\u001b[0m\u001b[0;34m\u001b[0m\u001b[0m\n\u001b[0;32m---> 17\u001b[0;31m     \u001b[0mfake_df\u001b[0m \u001b[0;34m=\u001b[0m \u001b[0mfeature_calculators\u001b[0m\u001b[0;34m.\u001b[0m\u001b[0mfeaturize_dataframe\u001b[0m\u001b[0;34m(\u001b[0m\u001b[0mfake_df\u001b[0m\u001b[0;34m,\u001b[0m \u001b[0mcol_id\u001b[0m\u001b[0;34m=\u001b[0m\u001b[0;34m'composition'\u001b[0m\u001b[0;34m,\u001b[0m \u001b[0mignore_errors\u001b[0m\u001b[0;34m=\u001b[0m\u001b[0mignore_errors\u001b[0m\u001b[0;34m)\u001b[0m\u001b[0;34m;\u001b[0m\u001b[0;34m\u001b[0m\u001b[0;34m\u001b[0m\u001b[0m\n\u001b[0m\u001b[1;32m     18\u001b[0m     \u001b[0mfake_df\u001b[0m\u001b[0;34m[\u001b[0m\u001b[0;34m\"NComp\"\u001b[0m\u001b[0;34m]\u001b[0m \u001b[0;34m=\u001b[0m \u001b[0mfake_df\u001b[0m\u001b[0;34m[\u001b[0m\u001b[0;34m\"composition\"\u001b[0m\u001b[0;34m]\u001b[0m\u001b[0;34m.\u001b[0m\u001b[0mapply\u001b[0m\u001b[0;34m(\u001b[0m\u001b[0mlen\u001b[0m\u001b[0;34m)\u001b[0m\u001b[0;34m\u001b[0m\u001b[0;34m\u001b[0m\u001b[0m\n\u001b[1;32m     19\u001b[0m     \u001b[0;32mreturn\u001b[0m \u001b[0mfake_df\u001b[0m\u001b[0;34m\u001b[0m\u001b[0;34m\u001b[0m\u001b[0m\n",
      "\u001b[0;32m~/.pyenv/versions/miniconda3-4.3.27/envs/matminer/lib/python3.7/site-packages/matminer/featurizers/base.py\u001b[0m in \u001b[0;36mfeaturize_dataframe\u001b[0;34m(self, df, col_id, ignore_errors, return_errors, inplace, multiindex, pbar)\u001b[0m\n\u001b[1;32m    341\u001b[0m             \u001b[0mignore_errors\u001b[0m\u001b[0;34m=\u001b[0m\u001b[0mignore_errors\u001b[0m\u001b[0;34m,\u001b[0m\u001b[0;34m\u001b[0m\u001b[0;34m\u001b[0m\u001b[0m\n\u001b[1;32m    342\u001b[0m             \u001b[0mreturn_errors\u001b[0m\u001b[0;34m=\u001b[0m\u001b[0mreturn_errors\u001b[0m\u001b[0;34m,\u001b[0m\u001b[0;34m\u001b[0m\u001b[0;34m\u001b[0m\u001b[0m\n\u001b[0;32m--> 343\u001b[0;31m             \u001b[0mpbar\u001b[0m\u001b[0;34m=\u001b[0m\u001b[0mpbar\u001b[0m\u001b[0;34m,\u001b[0m\u001b[0;34m\u001b[0m\u001b[0;34m\u001b[0m\u001b[0m\n\u001b[0m\u001b[1;32m    344\u001b[0m         )\n\u001b[1;32m    345\u001b[0m \u001b[0;34m\u001b[0m\u001b[0m\n",
      "\u001b[0;32m~/.pyenv/versions/miniconda3-4.3.27/envs/matminer/lib/python3.7/site-packages/matminer/featurizers/base.py\u001b[0m in \u001b[0;36mfeaturize_many\u001b[0;34m(self, entries, ignore_errors, return_errors, pbar)\u001b[0m\n\u001b[1;32m    605\u001b[0m                 \u001b[0mignore_errors\u001b[0m\u001b[0;34m=\u001b[0m\u001b[0mignore_errors\u001b[0m\u001b[0;34m,\u001b[0m\u001b[0;34m\u001b[0m\u001b[0;34m\u001b[0m\u001b[0m\n\u001b[1;32m    606\u001b[0m                 \u001b[0mreturn_errors\u001b[0m\u001b[0;34m=\u001b[0m\u001b[0mreturn_errors\u001b[0m\u001b[0;34m,\u001b[0m\u001b[0;34m\u001b[0m\u001b[0;34m\u001b[0m\u001b[0m\n\u001b[0;32m--> 607\u001b[0;31m                 \u001b[0mpbar\u001b[0m\u001b[0;34m=\u001b[0m\u001b[0mpbar\u001b[0m\u001b[0;34m,\u001b[0m\u001b[0;34m\u001b[0m\u001b[0;34m\u001b[0m\u001b[0m\n\u001b[0m\u001b[1;32m    608\u001b[0m             )\n\u001b[1;32m    609\u001b[0m         \u001b[0;32melse\u001b[0m\u001b[0;34m:\u001b[0m\u001b[0;34m\u001b[0m\u001b[0;34m\u001b[0m\u001b[0m\n",
      "\u001b[0;32m~/.pyenv/versions/miniconda3-4.3.27/envs/matminer/lib/python3.7/site-packages/matminer/featurizers/base.py\u001b[0m in \u001b[0;36mfeaturize_many\u001b[0;34m(self, entries, ignore_errors, return_errors, pbar)\u001b[0m\n\u001b[1;32m    469\u001b[0m                     \u001b[0mignore_errors\u001b[0m\u001b[0;34m=\u001b[0m\u001b[0mignore_errors\u001b[0m\u001b[0;34m,\u001b[0m\u001b[0;34m\u001b[0m\u001b[0;34m\u001b[0m\u001b[0m\n\u001b[1;32m    470\u001b[0m                 )\n\u001b[0;32m--> 471\u001b[0;31m                 \u001b[0;32mreturn\u001b[0m \u001b[0mp\u001b[0m\u001b[0;34m.\u001b[0m\u001b[0mmap\u001b[0m\u001b[0;34m(\u001b[0m\u001b[0mfunc\u001b[0m\u001b[0;34m,\u001b[0m \u001b[0mentries\u001b[0m\u001b[0;34m,\u001b[0m \u001b[0mchunksize\u001b[0m\u001b[0;34m=\u001b[0m\u001b[0mself\u001b[0m\u001b[0;34m.\u001b[0m\u001b[0mchunksize\u001b[0m\u001b[0;34m)\u001b[0m\u001b[0;34m\u001b[0m\u001b[0;34m\u001b[0m\u001b[0m\n\u001b[0m\u001b[1;32m    472\u001b[0m \u001b[0;34m\u001b[0m\u001b[0m\n\u001b[1;32m    473\u001b[0m     \u001b[0;32mdef\u001b[0m \u001b[0mfeaturize_wrapper\u001b[0m\u001b[0;34m(\u001b[0m\u001b[0mself\u001b[0m\u001b[0;34m,\u001b[0m \u001b[0mx\u001b[0m\u001b[0;34m,\u001b[0m \u001b[0mreturn_errors\u001b[0m\u001b[0;34m=\u001b[0m\u001b[0;32mFalse\u001b[0m\u001b[0;34m,\u001b[0m \u001b[0mignore_errors\u001b[0m\u001b[0;34m=\u001b[0m\u001b[0;32mFalse\u001b[0m\u001b[0;34m)\u001b[0m\u001b[0;34m:\u001b[0m\u001b[0;34m\u001b[0m\u001b[0;34m\u001b[0m\u001b[0m\n",
      "\u001b[0;32m~/.pyenv/versions/miniconda3-4.3.27/envs/matminer/lib/python3.7/multiprocessing/pool.py\u001b[0m in \u001b[0;36mmap\u001b[0;34m(self, func, iterable, chunksize)\u001b[0m\n\u001b[1;32m    266\u001b[0m         \u001b[0;32min\u001b[0m \u001b[0ma\u001b[0m \u001b[0mlist\u001b[0m \u001b[0mthat\u001b[0m \u001b[0;32mis\u001b[0m \u001b[0mreturned\u001b[0m\u001b[0;34m.\u001b[0m\u001b[0;34m\u001b[0m\u001b[0;34m\u001b[0m\u001b[0m\n\u001b[1;32m    267\u001b[0m         '''\n\u001b[0;32m--> 268\u001b[0;31m         \u001b[0;32mreturn\u001b[0m \u001b[0mself\u001b[0m\u001b[0;34m.\u001b[0m\u001b[0m_map_async\u001b[0m\u001b[0;34m(\u001b[0m\u001b[0mfunc\u001b[0m\u001b[0;34m,\u001b[0m \u001b[0miterable\u001b[0m\u001b[0;34m,\u001b[0m \u001b[0mmapstar\u001b[0m\u001b[0;34m,\u001b[0m \u001b[0mchunksize\u001b[0m\u001b[0;34m)\u001b[0m\u001b[0;34m.\u001b[0m\u001b[0mget\u001b[0m\u001b[0;34m(\u001b[0m\u001b[0;34m)\u001b[0m\u001b[0;34m\u001b[0m\u001b[0;34m\u001b[0m\u001b[0m\n\u001b[0m\u001b[1;32m    269\u001b[0m \u001b[0;34m\u001b[0m\u001b[0m\n\u001b[1;32m    270\u001b[0m     \u001b[0;32mdef\u001b[0m \u001b[0mstarmap\u001b[0m\u001b[0;34m(\u001b[0m\u001b[0mself\u001b[0m\u001b[0;34m,\u001b[0m \u001b[0mfunc\u001b[0m\u001b[0;34m,\u001b[0m \u001b[0miterable\u001b[0m\u001b[0;34m,\u001b[0m \u001b[0mchunksize\u001b[0m\u001b[0;34m=\u001b[0m\u001b[0;32mNone\u001b[0m\u001b[0;34m)\u001b[0m\u001b[0;34m:\u001b[0m\u001b[0;34m\u001b[0m\u001b[0;34m\u001b[0m\u001b[0m\n",
      "\u001b[0;32m~/.pyenv/versions/miniconda3-4.3.27/envs/matminer/lib/python3.7/multiprocessing/pool.py\u001b[0m in \u001b[0;36mget\u001b[0;34m(self, timeout)\u001b[0m\n\u001b[1;32m    655\u001b[0m             \u001b[0;32mreturn\u001b[0m \u001b[0mself\u001b[0m\u001b[0;34m.\u001b[0m\u001b[0m_value\u001b[0m\u001b[0;34m\u001b[0m\u001b[0;34m\u001b[0m\u001b[0m\n\u001b[1;32m    656\u001b[0m         \u001b[0;32melse\u001b[0m\u001b[0;34m:\u001b[0m\u001b[0;34m\u001b[0m\u001b[0;34m\u001b[0m\u001b[0m\n\u001b[0;32m--> 657\u001b[0;31m             \u001b[0;32mraise\u001b[0m \u001b[0mself\u001b[0m\u001b[0;34m.\u001b[0m\u001b[0m_value\u001b[0m\u001b[0;34m\u001b[0m\u001b[0;34m\u001b[0m\u001b[0m\n\u001b[0m\u001b[1;32m    658\u001b[0m \u001b[0;34m\u001b[0m\u001b[0m\n\u001b[1;32m    659\u001b[0m     \u001b[0;32mdef\u001b[0m \u001b[0m_set\u001b[0m\u001b[0;34m(\u001b[0m\u001b[0mself\u001b[0m\u001b[0;34m,\u001b[0m \u001b[0mi\u001b[0m\u001b[0;34m,\u001b[0m \u001b[0mobj\u001b[0m\u001b[0;34m)\u001b[0m\u001b[0;34m:\u001b[0m\u001b[0;34m\u001b[0m\u001b[0;34m\u001b[0m\u001b[0m\n",
      "\u001b[0;31mKeyError\u001b[0m: \"'U'\\nTO SKIP THESE ERRORS when featurizing specific compounds, set 'ignore_errors=True' when running the batch featurize() operation (e.g., featurize_many(), featurize_dataframe(), etc.).\""
     ]
    }
   ],
   "source": [
    "input = './data/predict.csv'\n",
    "y = pd.read_csv(input).iloc[:,0].values\n",
    "# print(input)\n",
    "# # input='{1}{0}{1}'.format(input,\"'\")\n",
    "# print(input)\n",
    "formula = pd.read_csv(input)\n",
    "# print(formula)\n",
    "ext_magpie = generate(formula)\n",
    "return(ext_magpie)\n",
    "# ext_magpie('train.csv')"
   ]
  },
  {
   "cell_type": "code",
   "execution_count": null,
   "id": "010c91a5",
   "metadata": {},
   "outputs": [],
   "source": []
  },
  {
   "cell_type": "code",
   "execution_count": 27,
   "id": "3162af96",
   "metadata": {
    "scrolled": false
   },
   "outputs": [
    {
     "name": "stdout",
     "output_type": "stream",
     "text": [
      "['Na8Al6Si6S1O28' 'Na8Al6Si6Br1Cl1O24' 'Na8Al6Si6I1Cl1O24' ...\n",
      " 'Al16Si24W24O96' 'Sr24Fe16H96O96' 'Gd24Fe40O96']\n"
     ]
    }
   ],
   "source": [
    "input = './data/predict.csv'\n",
    "y = pd.read_csv(input).iloc[:,0].values\n",
    "# print(y)\n",
    "ls = []\n",
    "for i in y:\n",
    "    comp=Composition(i)\n",
    "    redu = comp.get_reduced_formula_and_factor()[1] # specific value ⇦ 具体的に何を指すか不明\n",
    "    # redu_for = comp.get_reduced_formula_and_factor()[0]\n",
    "    # redu_data=np.array(list(comp.as_dict().values()))\n",
    "    most=comp.num_atoms # total atom number\n",
    "    data=np.array(list(comp.as_dict().values()))\n",
    "    # print(list(data))\n",
    "    # l = len(data)\n",
    "    # s = sum(data)\n",
    "    # print(s)\n",
    "\n",
    "    a = max(data) # maximum atom number\n",
    "    #print(a)\n",
    "    i = min(data) # minimum atom number\n",
    "    m = np.mean(data) # average atom number\n",
    "    # v = np.var(data)\n",
    "    var = np.var(data/most) # atom number variance\n",
    "    # var2 = np.var(data/redu)\n",
    "    ls.append([most,a,i,m,redu,var,])"
   ]
  },
  {
   "cell_type": "code",
   "execution_count": null,
   "id": "44301708",
   "metadata": {},
   "outputs": [],
   "source": []
  }
 ],
 "metadata": {
  "kernelspec": {
   "display_name": "matminer",
   "language": "python",
   "name": "matminer"
  },
  "language_info": {
   "codemirror_mode": {
    "name": "ipython",
    "version": 3
   },
   "file_extension": ".py",
   "mimetype": "text/x-python",
   "name": "python",
   "nbconvert_exporter": "python",
   "pygments_lexer": "ipython3",
   "version": "3.7.11"
  }
 },
 "nbformat": 4,
 "nbformat_minor": 5
}
